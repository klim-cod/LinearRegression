{
 "cells": [
  {
   "cell_type": "markdown",
   "id": "35a27924",
   "metadata": {},
   "source": [
    "# Лабораторная работа по линейной регрессии на Python"
   ]
  },
  {
   "cell_type": "markdown",
   "id": "b5a7844f",
   "metadata": {},
   "source": [
    "\n",
    "## 1. Поиск градиента\n",
    "\n",
    "Продолжим формулу для векторной производной по $x$ для функции квадратичной ошибки:\n",
    "\n",
    "$$ f(x) = ||Ax - y||^2 = (Ax - y)^T(Ax - y) $$\n",
    "\n",
    "Раскроем скобки:\n",
    "\n",
    "$$\n",
    "f(x) = (Ax)^T(Ax) - 2y^T(Ax) + y^T y = x^T A^T A x - 2 x^T A^T y + y^T y\n",
    "$$\n",
    "\n",
    "Найдем градиент по $x$:\n",
    "\n",
    "$$\n",
    "\\nabla f(x) = \\nabla \\left( x^T A^T A x - 2 x^T A^T y + y^T y \\right)\n",
    "$$\n",
    "\n",
    "Так как $y^T y$ — скаляр и не зависит от $x$, производная от него будет 0. Тогда:\n",
    "\n",
    "$$\n",
    "\\nabla f(x) = 2A^T A x - 2A^T y\n",
    "$$\n",
    "\n",
    "**Итоговая формула:**\n",
    "\n",
    "$$\n",
    "\\boxed{\\nabla f(x) = 2A^T A x - 2A^T y}\n",
    "$$\n"
   ]
  },
  {
   "cell_type": "markdown",
   "id": "d81159c1",
   "metadata": {},
   "source": [
    "\n",
    "## 2. Прямое решение через ноль производной\n",
    "\n",
    "Приравниваем градиент к нулю:\n",
    "\n",
    "$$\n",
    "\\nabla f(x) = 2A^T A x - 2A^T y = 0\n",
    "$$\n",
    "\n",
    "Разделим обе части на 2:\n",
    "\n",
    "$$\n",
    "A^T A x = A^T y\n",
    "$$\n",
    "\n",
    "Домножим обе части на $(A^T A)^{-1}$, если матрица обратима:\n",
    "\n",
    "$$\n",
    "x = (A^T A)^{-1} A^T y\n",
    "$$\n",
    "\n",
    "**Итоговая формула:**\n",
    "\n",
    "$$\n",
    "\\boxed{x = (A^T A)^{-1} A^T y}\n",
    "$$\n"
   ]
  },
  {
   "cell_type": "code",
   "execution_count": null,
   "id": "04596f9d",
   "metadata": {},
   "outputs": [],
   "source": [
    "\n",
    "import numpy as np\n",
    "import matplotlib.pyplot as plt\n",
    "\n",
    "# ваши параметры по вариантам\n",
    "a_orig = (-1)**3 * 0.1 * 3  # n = 3\n",
    "b_orig = 3 * (-1)**(3+1)    # n = 3\n",
    "random_state = 3\n",
    "\n",
    "x_orig = np.array([a_orig, b_orig])\n",
    "\n",
    "np.random.seed(random_state)\n",
    "\n",
    "A = np.stack([np.arange(0, 25), np.ones(25)]).T\n",
    "\n",
    "# @ - операция матричного умножения в библиотеке NumPy\n",
    "y = A @ x_orig + np.random.standard_normal(25)\n",
    "\n",
    "f, ax = plt.subplots(figsize=(7, 7))\n",
    "\n",
    "plt.scatter(A[:, 0], y)\n",
    "\n",
    "ax.set_xlim(-25, 25)\n",
    "ax.set_ylim(-25, 25)\n",
    "\n",
    "ax.axvline(0, color=\"black\")\n",
    "ax.axhline(0, color=\"black\")\n",
    "ax.grid(True)\n",
    "plt.title(\"График точек с шумом\")\n",
    "plt.show()\n"
   ]
  },
  {
   "cell_type": "markdown",
   "id": "9466417c",
   "metadata": {},
   "source": [
    "\n",
    "### Вопрос - зачем был дописан вектор единиц справа к иксу?\n",
    "\n",
    "ответ - Вектор единиц добавлен к $A$ для учета свободного члена (сдвига, смещения) в линейной модели. Это позволяет не ограничиваться только проходящими через начало координат прямыми и обучать модель со сдвигом.\n"
   ]
  },
  {
   "cell_type": "code",
   "execution_count": null,
   "id": "4bb89e0b",
   "metadata": {},
   "outputs": [],
   "source": [
    "\n",
    "# Решение задачи через аналитическую формулу\n",
    "A_T_A = A.T @ A\n",
    "A_T_y = A.T @ y\n",
    "a_b_analytical = np.linalg.inv(A_T_A) @ A_T_y\n",
    "print(\"Аналитическое решение (a, b):\", a_b_analytical)\n"
   ]
  },
  {
   "cell_type": "code",
   "execution_count": null,
   "id": "52a8cf47",
   "metadata": {},
   "outputs": [],
   "source": [
    "\n",
    "# Визуализация найденной прямой\n",
    "x_vals = np.linspace(0, 25, 100)\n",
    "y_vals = a_b_analytical[0] * x_vals + a_b_analytical[1]\n",
    "\n",
    "plt.figure(figsize=(7, 7))\n",
    "plt.scatter(A[:, 0], y, label='Данные с шумом')\n",
    "plt.plot(x_vals, y_vals, color='red', label='Найденная прямая')\n",
    "plt.axvline(0, color=\"black\")\n",
    "plt.axhline(0, color=\"black\")\n",
    "plt.grid(True)\n",
    "plt.title(\"Линейная регрессия через аналитическое решение\")\n",
    "plt.legend()\n",
    "plt.show()\n"
   ]
  }
 ],
 "metadata": {
  "kernelspec": {
   "display_name": "churn",
   "language": "python",
   "name": "python3"
  },
  "language_info": {
   "codemirror_mode": {
    "name": "ipython",
    "version": 3
   },
   "file_extension": ".py",
   "mimetype": "text/x-python",
   "name": "python",
   "nbconvert_exporter": "python",
   "pygments_lexer": "ipython3",
   "version": "3.10.14"
  }
 },
 "nbformat": 4,
 "nbformat_minor": 2
}
